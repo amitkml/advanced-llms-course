{
 "cells": [
  {
   "cell_type": "code",
   "execution_count": 4,
   "id": "4d1d583c-ff72-4f04-b15e-3a5e7a7a075d",
   "metadata": {},
   "outputs": [],
   "source": [
    "from openai import OpenAI\n",
    "import requests\n",
    "import streamlit as st\n",
    "from qdrant_client import QdrantClient\n",
    "\n",
    "from sentence_transformers import SentenceTransformer"
   ]
  },
  {
   "cell_type": "code",
   "execution_count": 7,
   "id": "c1f28558-9957-4156-a69b-7b952351c5e7",
   "metadata": {},
   "outputs": [],
   "source": [
    "def getResponse(query):\n",
    "    url = \"https://api-ares.traversaal.ai/live/predict\"\n",
    "    payload = { \"query\": [query] }\n",
    "    headers = {\n",
    "      \"x-api-key\": st.secrets[\"TRAVERSAAL\"],\n",
    "      \"content-type\": \"application/json\"\n",
    "    }\n",
    "\n",
    "    response = requests.post(url, json=payload, headers=headers)\n",
    "    if response.status_code == 200:\n",
    "        # Get the JSON content from the response\n",
    "        json_content = response.json()\n",
    "\n",
    "        # Specify the file path where you want to save the JSON content\n",
    "        return json_content\n",
    "    else:\n",
    "        print(response.status_code)\n",
    "        return \" \""
   ]
  },
  {
   "cell_type": "code",
   "execution_count": 63,
   "id": "02856991-8745-491f-9b9d-bd31e7ccc9bd",
   "metadata": {},
   "outputs": [],
   "source": [
    "def ares_api(query):\n",
    "    response_json = getResponse(query);\n",
    "    return (response_json['data']['response_text'])\n"
   ]
  },
  {
   "cell_type": "code",
   "execution_count": 58,
   "id": "d36e7d39-1175-4099-9093-f4e1fea21804",
   "metadata": {},
   "outputs": [],
   "source": [
    "def canAnswer(description, q):\n",
    "    client = initializeClient();\n",
    "\n",
    "    prompt = f\"\"\"\n",
    "    \\\"{description}\\\"\n",
    "    \\n\n",
    "    is there information about the following in the above text, make sure you will be able to enaswer the following question prcisely: {q}\n",
    "    \\n\n",
    "    answer in one word, \"yes\" or \"no\"\n",
    "    \"\"\"\n",
    "    stream = client.chat.completions.create(\n",
    "        model=\"gpt-4\",\n",
    "        messages=[{\"role\": \"user\", \"content\": prompt}],\n",
    "        stream=True,\n",
    "    )\n",
    "    strr = \"\"\n",
    "    for chunk in stream:\n",
    "        if chunk.choices[0].delta.content is not None:\n",
    "            strr += (chunk.choices[0].delta.content)\n",
    "    return strr.lower() == \"yes\";\n",
    "    \n"
   ]
  },
  {
   "cell_type": "code",
   "execution_count": 60,
   "id": "933f1403-5336-4468-8890-4c0c409619c5",
   "metadata": {},
   "outputs": [],
   "source": [
    "sample_description = \"\"\"\n",
    "    In the east of Paris, the hotel Campanile Bercy boasts an ideal location for exploring The City of\n",
    "    LightsNature-lovers staying at Campanile Bercy will enjoy its privileged vicinity,taking walks in \n",
    "    Bercy Park and its four gardens, strolling around the village \"\"Cour Saint Emilion\"\" as well as \n",
    "    trying restaurants and cafes.\n",
    "\"\"\""
   ]
  },
  {
   "cell_type": "code",
   "execution_count": 68,
   "id": "8f7859db-f6fd-4c81-bc08-3f9851135b96",
   "metadata": {},
   "outputs": [
    {
     "name": "stdout",
     "output_type": "stream",
     "text": [
      "GOING TO TRAVERSE API\n",
      "The best restaurants near Hotel Campanile Bercy in Paris are Sushi Yuki, Fenetre sur Cour, L'Auberge Aveyronnaise, The Frog at Bercy Village, Pedra Alta, Fresh'Heure, Le Midnight Paris, and Zendo Sushi Restaurant. You can find more information [here](https://www.tripadvisor.com/RestaurantsNear-g187147-d233766-Hotel_Campanile_Paris_Bercy_Village-Paris_Ile_de_France.html).\n",
      "RECEIVED INFORMATION FROM ARES API\n"
     ]
    }
   ],
   "source": [
    "prompt = \"whats are some good restaurants near by? \"\n",
    "if (not canAnswer(sample_description, prompt)):\n",
    "    print(\"GOING TO TRAVERSE API\")\n",
    "    x = ares_api(prompt + \"for hotel Campanile Bercy located in paris\")\n",
    "    print(x)\n",
    "    print(\"RECEIVED INFORMATION FROM ARES API\")\n",
    "    sample_description += x\n",
    "else:\n",
    "    print(\"Can Answer\")"
   ]
  },
  {
   "cell_type": "code",
   "execution_count": 70,
   "id": "f31668c7-70e8-41b9-a2c8-e02a469d014e",
   "metadata": {},
   "outputs": [
    {
     "name": "stdout",
     "output_type": "stream",
     "text": [
      "Some good restaurants near Hotel Campanile Bercy in Paris are:\n",
      "\n",
      "1. Sushi Yuki\n",
      "2. Fenetre sur Cour\n",
      "3. L'Auberge Aveyronnaise\n",
      "4. The Frog at Bercy Village\n",
      "5. Pedra Alta\n",
      "6. Fresh'Heure\n",
      "7. Le Midnight Paris\n",
      "8. Zendo Sushi Restaurant\n",
      "\n",
      "You can find more information and reviews on these restaurants [here](https://www.tripadvisor.com/RestaurantsNear-g187147-d233766-Hotel_Campanile_Paris_Bercy_Village-Paris_Ile_de_France.html). Enjoy your dining experience!"
     ]
    }
   ],
   "source": [
    "client = OpenAI(api_key=st.secrets[\"OPENAI_API_KEY\"])\n",
    "stream = client.chat.completions.create(\n",
    "    model='gpt-3.5-turbo',\n",
    "    messages=[\n",
    "        {\"role\": \"user\", \"content\": sample_description},\n",
    "        {\"role\": \"user\", \"content\": prompt}   \n",
    "\n",
    "    ],\n",
    "    stream=True,\n",
    ")\n",
    "for chunk in stream:\n",
    "    if chunk.choices[0].delta.content is not None:\n",
    "        print(chunk.choices[0].delta.content, end = '')\n"
   ]
  },
  {
   "cell_type": "code",
   "execution_count": 54,
   "id": "834dd9e5-2b03-4c8a-9fd7-faba5fa27e92",
   "metadata": {},
   "outputs": [],
   "source": []
  }
 ],
 "metadata": {
  "kernelspec": {
   "display_name": "Python 3 (ipykernel)",
   "language": "python",
   "name": "python3"
  },
  "language_info": {
   "codemirror_mode": {
    "name": "ipython",
    "version": 3
   },
   "file_extension": ".py",
   "mimetype": "text/x-python",
   "name": "python",
   "nbconvert_exporter": "python",
   "pygments_lexer": "ipython3",
   "version": "3.11.5"
  }
 },
 "nbformat": 4,
 "nbformat_minor": 5
}
